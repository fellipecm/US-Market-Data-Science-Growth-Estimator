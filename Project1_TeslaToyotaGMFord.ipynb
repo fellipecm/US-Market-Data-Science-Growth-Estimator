{
 "cells": [
  {
   "cell_type": "markdown",
   "metadata": {},
   "source": [
    "Web scrapped originally from:\n",
    "\n",
    "URL: https://carsalesbase.com/car-sales-us-home-main/car-sales-by-brand-us/"
   ]
  },
  {
   "cell_type": "markdown",
   "metadata": {},
   "source": [
    "@author: Michel Mendonca"
   ]
  },
  {
   "cell_type": "code",
   "execution_count": null,
   "metadata": {},
   "outputs": [],
   "source": []
  },
  {
   "cell_type": "code",
   "execution_count": 10,
   "metadata": {},
   "outputs": [],
   "source": [
    "import scrapy\n",
    "import itertools\n",
    "from itertools import chain\n",
    "import csv\n",
    "import pandas as pd"
   ]
  },
  {
   "cell_type": "markdown",
   "metadata": {},
   "source": [
    "class project1_carsSpider(scrapy.Spider):\n",
    "    name = 'project1_cars_ford'\n",
    "    allowed_domains = ['Mozilla/5.0 (compatible; Googlebot/2.1; +http://www.google.com/bot.html)']\n",
    "    start_urls = ['https://carsalesbase.com/us-ford/']\n",
    "\n",
    "    def parse(self, response):\n",
    "        # table : id = \"table_3\"\n",
    "        # class_ : \"responsive display nowrap data-t data-t wpDataTable dataTable no-footer\"\n",
    "\n",
    "        rows = response.css(\"table\")[1].css('tr') # the first .css looks for the table we want and the secound .css looks for the rows\n",
    "        row = rows.css('td').css('::text').getall()\n",
    "        n = 4\n",
    "        splited = [row[i::n] for i in range(n)]\n",
    "\n",
    "        year = splited[3]\n",
    "        sales = splited[0][1:]\n",
    "        growth = splited[1][1:]\n",
    "        market_share = splited[2][1:]\n",
    "\n",
    "        zippedlist = list(zip(year, sales, growth, market_share))\n",
    "        #toyota_table = pd.DataFrame(zippedlist, columns = [\"Year\", \"Age\", \"Growth\", \"Market_Share\"])\n",
    "        #print(zippedlist)\n",
    "        f = open('ford.csv', 'w')\n",
    "        with f:\n",
    "            writer = csv.writer(f)\n",
    "            writer.writerows(zippedlist)\n",
    "\n",
    "        #print(splited)"
   ]
  },
  {
   "cell_type": "markdown",
   "metadata": {},
   "source": [
    "f = open(\"ford.csv\", \"r\")\n",
    "#print(f.read())"
   ]
  },
  {
   "cell_type": "markdown",
   "metadata": {},
   "source": [
    "header_names = ['Year', 'Sales', 'Growth', 'Market_Share']\n",
    "ford_table = pd.read_csv(\"ford.csv\", header=None, names = header_names)\n",
    "print(ford_table)"
   ]
  },
  {
   "cell_type": "markdown",
   "metadata": {},
   "source": [
    "ford_table.to_csv(\"Ford_us.csv\")"
   ]
  },
  {
   "cell_type": "code",
   "execution_count": null,
   "metadata": {},
   "outputs": [],
   "source": []
  },
  {
   "cell_type": "code",
   "execution_count": null,
   "metadata": {},
   "outputs": [],
   "source": []
  },
  {
   "cell_type": "code",
   "execution_count": null,
   "metadata": {},
   "outputs": [],
   "source": []
  },
  {
   "cell_type": "code",
   "execution_count": null,
   "metadata": {},
   "outputs": [],
   "source": []
  },
  {
   "cell_type": "code",
   "execution_count": 6,
   "metadata": {},
   "outputs": [],
   "source": [
    "fordData = open(\"Ford_us.csv\", \"r\")\n",
    "#print(fordData.read())"
   ]
  },
  {
   "cell_type": "code",
   "execution_count": 7,
   "metadata": {},
   "outputs": [],
   "source": [
    "teslaData = open(\"Tesla_us.csv\", \"r\")\n",
    "#print(teslaData.read())"
   ]
  },
  {
   "cell_type": "code",
   "execution_count": 8,
   "metadata": {},
   "outputs": [],
   "source": [
    "gmData = open(\"GM_us.csv\", \"r\")\n",
    "#print(gmData.read())"
   ]
  },
  {
   "cell_type": "code",
   "execution_count": 9,
   "metadata": {},
   "outputs": [],
   "source": [
    "toyotaData = open(\"Toyota_us.csv\", \"r\")\n",
    "#print(toyotaData.read())"
   ]
  },
  {
   "cell_type": "code",
   "execution_count": null,
   "metadata": {},
   "outputs": [],
   "source": []
  }
 ],
 "metadata": {
  "kernelspec": {
   "display_name": "Python 3",
   "language": "python",
   "name": "python3"
  },
  "language_info": {
   "codemirror_mode": {
    "name": "ipython",
    "version": 3
   },
   "file_extension": ".py",
   "mimetype": "text/x-python",
   "name": "python",
   "nbconvert_exporter": "python",
   "pygments_lexer": "ipython3",
   "version": "3.7.6"
  }
 },
 "nbformat": 4,
 "nbformat_minor": 4
}
